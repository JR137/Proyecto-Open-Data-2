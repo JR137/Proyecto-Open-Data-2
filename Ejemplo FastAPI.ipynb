{
 "cells": [
  {
   "cell_type": "code",
   "execution_count": 1,
   "id": "b0940103",
   "metadata": {},
   "outputs": [
    {
     "ename": "OperationalError",
     "evalue": "(1045, \"Access denied for user 'root'@'localhost' (using password: YES)\")",
     "output_type": "error",
     "traceback": [
      "\u001b[1;31m---------------------------------------------------------------------------\u001b[0m",
      "\u001b[1;31mOperationalError\u001b[0m                          Traceback (most recent call last)",
      "\u001b[1;32m~\\AppData\\Local\\Temp\\ipykernel_18088\\3013849463.py\u001b[0m in \u001b[0;36m<module>\u001b[1;34m\u001b[0m\n\u001b[0;32m     10\u001b[0m \u001b[1;33m\u001b[0m\u001b[0m\n\u001b[0;32m     11\u001b[0m \u001b[1;31m# Create a connection to the database\u001b[0m\u001b[1;33m\u001b[0m\u001b[1;33m\u001b[0m\u001b[0m\n\u001b[1;32m---> 12\u001b[1;33m \u001b[0mconn\u001b[0m \u001b[1;33m=\u001b[0m \u001b[0mMySQLdb\u001b[0m\u001b[1;33m.\u001b[0m\u001b[0mconnect\u001b[0m\u001b[1;33m(\u001b[0m\u001b[1;33m**\u001b[0m\u001b[0mdb_config\u001b[0m\u001b[1;33m)\u001b[0m\u001b[1;33m\u001b[0m\u001b[1;33m\u001b[0m\u001b[0m\n\u001b[0m",
      "\u001b[1;32m~\\anaconda3\\lib\\site-packages\\MySQLdb\\__init__.py\u001b[0m in \u001b[0;36mConnect\u001b[1;34m(*args, **kwargs)\u001b[0m\n\u001b[0;32m    119\u001b[0m     \u001b[1;32mfrom\u001b[0m \u001b[0mMySQLdb\u001b[0m\u001b[1;33m.\u001b[0m\u001b[0mconnections\u001b[0m \u001b[1;32mimport\u001b[0m \u001b[0mConnection\u001b[0m\u001b[1;33m\u001b[0m\u001b[1;33m\u001b[0m\u001b[0m\n\u001b[0;32m    120\u001b[0m \u001b[1;33m\u001b[0m\u001b[0m\n\u001b[1;32m--> 121\u001b[1;33m     \u001b[1;32mreturn\u001b[0m \u001b[0mConnection\u001b[0m\u001b[1;33m(\u001b[0m\u001b[1;33m*\u001b[0m\u001b[0margs\u001b[0m\u001b[1;33m,\u001b[0m \u001b[1;33m**\u001b[0m\u001b[0mkwargs\u001b[0m\u001b[1;33m)\u001b[0m\u001b[1;33m\u001b[0m\u001b[1;33m\u001b[0m\u001b[0m\n\u001b[0m\u001b[0;32m    122\u001b[0m \u001b[1;33m\u001b[0m\u001b[0m\n\u001b[0;32m    123\u001b[0m \u001b[1;33m\u001b[0m\u001b[0m\n",
      "\u001b[1;32m~\\anaconda3\\lib\\site-packages\\MySQLdb\\connections.py\u001b[0m in \u001b[0;36m__init__\u001b[1;34m(self, *args, **kwargs)\u001b[0m\n\u001b[0;32m    191\u001b[0m         \u001b[0mautocommit\u001b[0m \u001b[1;33m=\u001b[0m \u001b[0mkwargs2\u001b[0m\u001b[1;33m.\u001b[0m\u001b[0mpop\u001b[0m\u001b[1;33m(\u001b[0m\u001b[1;34m\"autocommit\"\u001b[0m\u001b[1;33m,\u001b[0m \u001b[1;32mFalse\u001b[0m\u001b[1;33m)\u001b[0m\u001b[1;33m\u001b[0m\u001b[1;33m\u001b[0m\u001b[0m\n\u001b[0;32m    192\u001b[0m \u001b[1;33m\u001b[0m\u001b[0m\n\u001b[1;32m--> 193\u001b[1;33m         \u001b[0msuper\u001b[0m\u001b[1;33m(\u001b[0m\u001b[1;33m)\u001b[0m\u001b[1;33m.\u001b[0m\u001b[0m__init__\u001b[0m\u001b[1;33m(\u001b[0m\u001b[1;33m*\u001b[0m\u001b[0margs\u001b[0m\u001b[1;33m,\u001b[0m \u001b[1;33m**\u001b[0m\u001b[0mkwargs2\u001b[0m\u001b[1;33m)\u001b[0m\u001b[1;33m\u001b[0m\u001b[1;33m\u001b[0m\u001b[0m\n\u001b[0m\u001b[0;32m    194\u001b[0m         \u001b[0mself\u001b[0m\u001b[1;33m.\u001b[0m\u001b[0mcursorclass\u001b[0m \u001b[1;33m=\u001b[0m \u001b[0mcursorclass\u001b[0m\u001b[1;33m\u001b[0m\u001b[1;33m\u001b[0m\u001b[0m\n\u001b[0;32m    195\u001b[0m         self.encoders = {\n",
      "\u001b[1;31mOperationalError\u001b[0m: (1045, \"Access denied for user 'root'@'localhost' (using password: YES)\")"
     ]
    }
   ],
   "source": [
    "import MySQLdb\n",
    "\n",
    "# Database configuration\n",
    "db_config = {\n",
    "    'host': 'localhost',\n",
    "    'user': 'root',\n",
    "    'passwd': 'Rafasql24',\n",
    "    'db': 'sakila',\n",
    "}\n",
    "\n",
    "# Create a connection to the database\n",
    "conn = MySQLdb.connect(**db_config)"
   ]
  },
  {
   "cell_type": "code",
   "execution_count": 58,
   "id": "037d1f6e",
   "metadata": {},
   "outputs": [
    {
     "data": {
      "text/plain": [
       "<_mysql.connection open to 'localhost' at 000002909BA7A550>"
      ]
     },
     "execution_count": 58,
     "metadata": {},
     "output_type": "execute_result"
    }
   ],
   "source": [
    "conn"
   ]
  },
  {
   "cell_type": "code",
   "execution_count": 59,
   "id": "6fdb8e65",
   "metadata": {},
   "outputs": [],
   "source": [
    "from fastapi import FastAPI, HTTPException\n",
    "from pydantic import BaseModel\n",
    "\n",
    "app = FastAPI()\n",
    "\n",
    "# Pydantic model to define the schema of the data\n",
    "class Item(BaseModel):\n",
    "    actor_id: int\n",
    "    first_name: str\n",
    "    last_name: str\n",
    "    last_update: str\n",
    "\n",
    "# Route to read an item\n",
    "@app.get(\"/items\", response_model=Item)\n",
    "def read_item():\n",
    "    cursor = conn.cursor()\n",
    "    query = \"SELECT actor_id, first_name, last_name, last_update FROM actor\"\n",
    "    cursor.execute(query)\n",
    "    item = cursor.fetchone()\n",
    "    cursor.close()\n",
    "    if item is None:\n",
    "        raise HTTPException(status_code=404, detail=\"Item not found\")\n",
    "    return {\"actor_id\": item[0], \"first_name\": item[1], \"last_name\": item[2], \"last_update\": item[3]}"
   ]
  },
  {
   "cell_type": "code",
   "execution_count": 6,
   "id": "3ecf42ca",
   "metadata": {},
   "outputs": [],
   "source": [
    "# Route to read an item\n",
    "@app.get(\"/items/{item_id}\", response_model=Item)\n",
    "def read_item(item_id: int):\n",
    "    cursor = conn.cursor()\n",
    "    query = \"SELECT actor_id, first_name, last_name, last_update FROM sakila WHERE actor_id=%s\"\n",
    "    cursor.execute(query, (item_id,))\n",
    "    item = cursor.fetchone()\n",
    "    cursor.close()\n",
    "    if item is None:\n",
    "        raise HTTPException(status_code=404, detail=\"Item not found\")\n",
    "    return {\"actor_id\": item[0], \"first_name\": item[1], \"last_name\": item[2], \"last_update\": item[3]}"
   ]
  },
  {
   "cell_type": "code",
   "execution_count": 60,
   "id": "6eaafaf3",
   "metadata": {},
   "outputs": [
    {
     "name": "stderr",
     "output_type": "stream",
     "text": [
      "INFO:     Started server process [19344]\n",
      "INFO:     Waiting for application startup.\n",
      "INFO:     Application startup complete.\n",
      "INFO:     Uvicorn running on http://127.0.0.1:8000 (Press CTRL+C to quit)\n"
     ]
    },
    {
     "name": "stdout",
     "output_type": "stream",
     "text": [
      "INFO:     127.0.0.1:60404 - \"GET /items HTTP/1.1\" 500 Internal Server Error\n"
     ]
    },
    {
     "name": "stderr",
     "output_type": "stream",
     "text": [
      "ERROR:    Exception in ASGI application\n",
      "Traceback (most recent call last):\n",
      "  File \"C:\\Users\\955\\Anaconda3\\lib\\site-packages\\uvicorn\\protocols\\http\\httptools_impl.py\", line 426, in run_asgi\n",
      "    result = await app(  # type: ignore[func-returns-value]\n",
      "  File \"C:\\Users\\955\\Anaconda3\\lib\\site-packages\\uvicorn\\middleware\\proxy_headers.py\", line 84, in __call__\n",
      "    return await self.app(scope, receive, send)\n",
      "  File \"C:\\Users\\955\\Anaconda3\\lib\\site-packages\\fastapi\\applications.py\", line 1054, in __call__\n",
      "    await super().__call__(scope, receive, send)\n",
      "  File \"C:\\Users\\955\\Anaconda3\\lib\\site-packages\\starlette\\applications.py\", line 116, in __call__\n",
      "    await self.middleware_stack(scope, receive, send)\n",
      "  File \"C:\\Users\\955\\Anaconda3\\lib\\site-packages\\starlette\\middleware\\errors.py\", line 186, in __call__\n",
      "    raise exc\n",
      "  File \"C:\\Users\\955\\Anaconda3\\lib\\site-packages\\starlette\\middleware\\errors.py\", line 164, in __call__\n",
      "    await self.app(scope, receive, _send)\n",
      "  File \"C:\\Users\\955\\Anaconda3\\lib\\site-packages\\starlette\\middleware\\exceptions.py\", line 62, in __call__\n",
      "    await wrap_app_handling_exceptions(self.app, conn)(scope, receive, send)\n",
      "  File \"C:\\Users\\955\\Anaconda3\\lib\\site-packages\\starlette\\_exception_handler.py\", line 55, in wrapped_app\n",
      "    raise exc\n",
      "  File \"C:\\Users\\955\\Anaconda3\\lib\\site-packages\\starlette\\_exception_handler.py\", line 44, in wrapped_app\n",
      "    await app(scope, receive, sender)\n",
      "  File \"C:\\Users\\955\\Anaconda3\\lib\\site-packages\\starlette\\routing.py\", line 746, in __call__\n",
      "    await route.handle(scope, receive, send)\n",
      "  File \"C:\\Users\\955\\Anaconda3\\lib\\site-packages\\starlette\\routing.py\", line 288, in handle\n",
      "    await self.app(scope, receive, send)\n",
      "  File \"C:\\Users\\955\\Anaconda3\\lib\\site-packages\\starlette\\routing.py\", line 75, in app\n",
      "    await wrap_app_handling_exceptions(app, request)(scope, receive, send)\n",
      "  File \"C:\\Users\\955\\Anaconda3\\lib\\site-packages\\starlette\\_exception_handler.py\", line 55, in wrapped_app\n",
      "    raise exc\n",
      "  File \"C:\\Users\\955\\Anaconda3\\lib\\site-packages\\starlette\\_exception_handler.py\", line 44, in wrapped_app\n",
      "    await app(scope, receive, sender)\n",
      "  File \"C:\\Users\\955\\Anaconda3\\lib\\site-packages\\starlette\\routing.py\", line 70, in app\n",
      "    response = await func(request)\n",
      "  File \"C:\\Users\\955\\Anaconda3\\lib\\site-packages\\fastapi\\routing.py\", line 315, in app\n",
      "    content = await serialize_response(\n",
      "  File \"C:\\Users\\955\\Anaconda3\\lib\\site-packages\\fastapi\\routing.py\", line 155, in serialize_response\n",
      "    raise ResponseValidationError(\n",
      "fastapi.exceptions.ResponseValidationError: 1 validation errors:\n",
      "  {'type': 'string_type', 'loc': ('response', 'last_update'), 'msg': 'Input should be a valid string', 'input': datetime.datetime(2006, 2, 15, 4, 34, 33), 'url': 'https://errors.pydantic.dev/2.5/v/string_type'}\n",
      "\n",
      "INFO:     Shutting down\n",
      "INFO:     Waiting for application shutdown.\n",
      "INFO:     Application shutdown complete.\n",
      "INFO:     Finished server process [19344]\n"
     ]
    }
   ],
   "source": [
    "import nest_asyncio\n",
    "import uvicorn\n",
    "\n",
    "nest_asyncio.apply()\n",
    "\n",
    "if __name__ == \"__main__\":\n",
    "#nest_asyncio.apply()\n",
    "   #uvicorn.run(app)\n",
    "    uvicorn.run(app, host=\"127.0.0.1\", port=8000)\n"
   ]
  },
  {
   "cell_type": "code",
   "execution_count": null,
   "id": "ab7fbba1",
   "metadata": {},
   "outputs": [],
   "source": []
  },
  {
   "cell_type": "code",
   "execution_count": 48,
   "id": "91177694",
   "metadata": {},
   "outputs": [
    {
     "name": "stderr",
     "output_type": "stream",
     "text": [
      "INFO:     Started server process [19344]\n",
      "INFO:     Waiting for application startup.\n",
      "INFO:     Application startup complete.\n",
      "INFO:     Uvicorn running on http://127.0.0.1:8000 (Press CTRL+C to quit)\n"
     ]
    },
    {
     "name": "stdout",
     "output_type": "stream",
     "text": [
      "INFO:     127.0.0.1:60076 - \"GET /saludo/Rafa HTTP/1.1\" 200 OK\n"
     ]
    },
    {
     "name": "stderr",
     "output_type": "stream",
     "text": [
      "INFO:     Shutting down\n",
      "INFO:     Waiting for application shutdown.\n",
      "INFO:     Application shutdown complete.\n",
      "INFO:     Finished server process [19344]\n"
     ]
    }
   ],
   "source": [
    "import nest_asyncio\n",
    "import uvicorn\n",
    "from fastapi import FastAPI\n",
    "\n",
    "nest_asyncio.apply()\n",
    "\n",
    "app = FastAPI()\n",
    "\n",
    "@app.get(\"/\")\n",
    "async def read_root():\n",
    "    return {\"message\": \"¡Hola, mundo!\"}\n",
    "\n",
    "# Definir una ruta adicional\n",
    "@app.get(\"/saludo/{nombre}\")\n",
    "async def saludar(nombre: str):\n",
    "    return {\"message\": f\"¡Hola, {nombre}!\"}\n",
    "\n",
    "if __name__ == \"__main__\":\n",
    "    uvicorn.run(app, host=\"127.0.0.1\", port=8000)"
   ]
  },
  {
   "cell_type": "code",
   "execution_count": null,
   "id": "88c0a708",
   "metadata": {},
   "outputs": [],
   "source": []
  },
  {
   "cell_type": "code",
   "execution_count": null,
   "id": "caa50f70",
   "metadata": {},
   "outputs": [],
   "source": []
  },
  {
   "cell_type": "code",
   "execution_count": 61,
   "id": "bc5ced97",
   "metadata": {},
   "outputs": [
    {
     "name": "stderr",
     "output_type": "stream",
     "text": [
      "INFO:     Started server process [19344]\n",
      "INFO:     Waiting for application startup.\n",
      "INFO:     Application startup complete.\n",
      "INFO:     Uvicorn running on http://127.0.0.1:8000 (Press CTRL+C to quit)\n"
     ]
    },
    {
     "name": "stdout",
     "output_type": "stream",
     "text": [
      "INFO:     127.0.0.1:60629 - \"GET /items HTTP/1.1\" 500 Internal Server Error\n"
     ]
    },
    {
     "name": "stderr",
     "output_type": "stream",
     "text": [
      "ERROR:    Exception in ASGI application\n",
      "Traceback (most recent call last):\n",
      "  File \"C:\\Users\\955\\Anaconda3\\lib\\site-packages\\uvicorn\\protocols\\http\\httptools_impl.py\", line 426, in run_asgi\n",
      "    result = await app(  # type: ignore[func-returns-value]\n",
      "  File \"C:\\Users\\955\\Anaconda3\\lib\\site-packages\\uvicorn\\middleware\\proxy_headers.py\", line 84, in __call__\n",
      "    return await self.app(scope, receive, send)\n",
      "  File \"C:\\Users\\955\\Anaconda3\\lib\\site-packages\\fastapi\\applications.py\", line 1054, in __call__\n",
      "    await super().__call__(scope, receive, send)\n",
      "  File \"C:\\Users\\955\\Anaconda3\\lib\\site-packages\\starlette\\applications.py\", line 116, in __call__\n",
      "    await self.middleware_stack(scope, receive, send)\n",
      "  File \"C:\\Users\\955\\Anaconda3\\lib\\site-packages\\starlette\\middleware\\errors.py\", line 186, in __call__\n",
      "    raise exc\n",
      "  File \"C:\\Users\\955\\Anaconda3\\lib\\site-packages\\starlette\\middleware\\errors.py\", line 164, in __call__\n",
      "    await self.app(scope, receive, _send)\n",
      "  File \"C:\\Users\\955\\Anaconda3\\lib\\site-packages\\starlette\\middleware\\exceptions.py\", line 62, in __call__\n",
      "    await wrap_app_handling_exceptions(self.app, conn)(scope, receive, send)\n",
      "  File \"C:\\Users\\955\\Anaconda3\\lib\\site-packages\\starlette\\_exception_handler.py\", line 55, in wrapped_app\n",
      "    raise exc\n",
      "  File \"C:\\Users\\955\\Anaconda3\\lib\\site-packages\\starlette\\_exception_handler.py\", line 44, in wrapped_app\n",
      "    await app(scope, receive, sender)\n",
      "  File \"C:\\Users\\955\\Anaconda3\\lib\\site-packages\\starlette\\routing.py\", line 746, in __call__\n",
      "    await route.handle(scope, receive, send)\n",
      "  File \"C:\\Users\\955\\Anaconda3\\lib\\site-packages\\starlette\\routing.py\", line 288, in handle\n",
      "    await self.app(scope, receive, send)\n",
      "  File \"C:\\Users\\955\\Anaconda3\\lib\\site-packages\\starlette\\routing.py\", line 75, in app\n",
      "    await wrap_app_handling_exceptions(app, request)(scope, receive, send)\n",
      "  File \"C:\\Users\\955\\Anaconda3\\lib\\site-packages\\starlette\\_exception_handler.py\", line 55, in wrapped_app\n",
      "    raise exc\n",
      "  File \"C:\\Users\\955\\Anaconda3\\lib\\site-packages\\starlette\\_exception_handler.py\", line 44, in wrapped_app\n",
      "    await app(scope, receive, sender)\n",
      "  File \"C:\\Users\\955\\Anaconda3\\lib\\site-packages\\starlette\\routing.py\", line 70, in app\n",
      "    response = await func(request)\n",
      "  File \"C:\\Users\\955\\Anaconda3\\lib\\site-packages\\fastapi\\routing.py\", line 315, in app\n",
      "    content = await serialize_response(\n",
      "  File \"C:\\Users\\955\\Anaconda3\\lib\\site-packages\\fastapi\\routing.py\", line 155, in serialize_response\n",
      "    raise ResponseValidationError(\n",
      "fastapi.exceptions.ResponseValidationError: 1 validation errors:\n",
      "  {'type': 'string_type', 'loc': ('response', 'last_update'), 'msg': 'Input should be a valid string', 'input': datetime.datetime(2006, 2, 15, 4, 34, 33), 'url': 'https://errors.pydantic.dev/2.5/v/string_type'}\n",
      "\n",
      "INFO:     Shutting down\n",
      "INFO:     Waiting for application shutdown.\n",
      "INFO:     Application shutdown complete.\n",
      "INFO:     Finished server process [19344]\n"
     ]
    }
   ],
   "source": [
    "import MySQLdb\n",
    "from fastapi import FastAPI, HTTPException\n",
    "from pydantic import BaseModel\n",
    "import nest_asyncio\n",
    "import uvicorn\n",
    "\n",
    "nest_asyncio.apply()\n",
    "\n",
    "# Database configuration\n",
    "db_config = {\n",
    "    'host': 'localhost',\n",
    "    'user': 'root',\n",
    "    'passwd': 'Rafasql24',\n",
    "    'db': 'sakila',\n",
    "}\n",
    "\n",
    "# Create a connection to the database\n",
    "conn = MySQLdb.connect(**db_config)\n",
    "\n",
    "app = FastAPI()\n",
    "\n",
    "# Pydantic model to define the schema of the data\n",
    "class Item(BaseModel):\n",
    "    actor_id: int\n",
    "    first_name: str\n",
    "    last_name: str\n",
    "    last_update: str\n",
    "\n",
    "# Route to read an item\n",
    "@app.get(\"/items\", response_model=Item)\n",
    "def read_item():\n",
    "    cursor = conn.cursor()\n",
    "    query = \"SELECT actor_id, first_name, last_name, last_update FROM actor\"\n",
    "    cursor.execute(query)\n",
    "    item = cursor.fetchone()\n",
    "    cursor.close()\n",
    "    if item is None:\n",
    "        raise HTTPException(status_code=404, detail=\"Item not found\")\n",
    "    return {\"actor_id\": item[0], \"first_name\": item[1], \"last_name\": item[2], \"last_update\": item[3]}\n",
    "\n",
    "if __name__ == \"__main__\":\n",
    "    uvicorn.run(app, host=\"127.0.0.1\", port=8000)"
   ]
  },
  {
   "cell_type": "code",
   "execution_count": null,
   "id": "1e6f8b9c",
   "metadata": {},
   "outputs": [],
   "source": []
  },
  {
   "cell_type": "code",
   "execution_count": null,
   "id": "7bd90ab2",
   "metadata": {},
   "outputs": [],
   "source": []
  },
  {
   "cell_type": "code",
   "execution_count": 62,
   "id": "1197f621",
   "metadata": {},
   "outputs": [
    {
     "name": "stderr",
     "output_type": "stream",
     "text": [
      "INFO:     Started server process [19344]\n",
      "INFO:     Waiting for application startup.\n",
      "INFO:     Application startup complete.\n",
      "INFO:     Uvicorn running on http://127.0.0.1:8000 (Press CTRL+C to quit)\n"
     ]
    },
    {
     "name": "stdout",
     "output_type": "stream",
     "text": [
      "INFO:     127.0.0.1:60761 - \"GET /items HTTP/1.1\" 500 Internal Server Error\n"
     ]
    },
    {
     "name": "stderr",
     "output_type": "stream",
     "text": [
      "ERROR:    Exception in ASGI application\n",
      "Traceback (most recent call last):\n",
      "  File \"C:\\Users\\955\\Anaconda3\\lib\\site-packages\\uvicorn\\protocols\\http\\httptools_impl.py\", line 426, in run_asgi\n",
      "    result = await app(  # type: ignore[func-returns-value]\n",
      "  File \"C:\\Users\\955\\Anaconda3\\lib\\site-packages\\uvicorn\\middleware\\proxy_headers.py\", line 84, in __call__\n",
      "    return await self.app(scope, receive, send)\n",
      "  File \"C:\\Users\\955\\Anaconda3\\lib\\site-packages\\fastapi\\applications.py\", line 1054, in __call__\n",
      "    await super().__call__(scope, receive, send)\n",
      "  File \"C:\\Users\\955\\Anaconda3\\lib\\site-packages\\starlette\\applications.py\", line 116, in __call__\n",
      "    await self.middleware_stack(scope, receive, send)\n",
      "  File \"C:\\Users\\955\\Anaconda3\\lib\\site-packages\\starlette\\middleware\\errors.py\", line 186, in __call__\n",
      "    raise exc\n",
      "  File \"C:\\Users\\955\\Anaconda3\\lib\\site-packages\\starlette\\middleware\\errors.py\", line 164, in __call__\n",
      "    await self.app(scope, receive, _send)\n",
      "  File \"C:\\Users\\955\\Anaconda3\\lib\\site-packages\\starlette\\middleware\\exceptions.py\", line 62, in __call__\n",
      "    await wrap_app_handling_exceptions(self.app, conn)(scope, receive, send)\n",
      "  File \"C:\\Users\\955\\Anaconda3\\lib\\site-packages\\starlette\\_exception_handler.py\", line 55, in wrapped_app\n",
      "    raise exc\n",
      "  File \"C:\\Users\\955\\Anaconda3\\lib\\site-packages\\starlette\\_exception_handler.py\", line 44, in wrapped_app\n",
      "    await app(scope, receive, sender)\n",
      "  File \"C:\\Users\\955\\Anaconda3\\lib\\site-packages\\starlette\\routing.py\", line 746, in __call__\n",
      "    await route.handle(scope, receive, send)\n",
      "  File \"C:\\Users\\955\\Anaconda3\\lib\\site-packages\\starlette\\routing.py\", line 288, in handle\n",
      "    await self.app(scope, receive, send)\n",
      "  File \"C:\\Users\\955\\Anaconda3\\lib\\site-packages\\starlette\\routing.py\", line 75, in app\n",
      "    await wrap_app_handling_exceptions(app, request)(scope, receive, send)\n",
      "  File \"C:\\Users\\955\\Anaconda3\\lib\\site-packages\\starlette\\_exception_handler.py\", line 55, in wrapped_app\n",
      "    raise exc\n",
      "  File \"C:\\Users\\955\\Anaconda3\\lib\\site-packages\\starlette\\_exception_handler.py\", line 44, in wrapped_app\n",
      "    await app(scope, receive, sender)\n",
      "  File \"C:\\Users\\955\\Anaconda3\\lib\\site-packages\\starlette\\routing.py\", line 70, in app\n",
      "    response = await func(request)\n",
      "  File \"C:\\Users\\955\\Anaconda3\\lib\\site-packages\\fastapi\\routing.py\", line 299, in app\n",
      "    raise e\n",
      "  File \"C:\\Users\\955\\Anaconda3\\lib\\site-packages\\fastapi\\routing.py\", line 294, in app\n",
      "    raw_response = await run_endpoint_function(\n",
      "  File \"C:\\Users\\955\\Anaconda3\\lib\\site-packages\\fastapi\\routing.py\", line 193, in run_endpoint_function\n",
      "    return await run_in_threadpool(dependant.call, **values)\n",
      "  File \"C:\\Users\\955\\Anaconda3\\lib\\site-packages\\starlette\\concurrency.py\", line 35, in run_in_threadpool\n",
      "    return await anyio.to_thread.run_sync(func, *args)\n",
      "  File \"C:\\Users\\955\\Anaconda3\\lib\\site-packages\\anyio\\to_thread.py\", line 28, in run_sync\n",
      "    return await get_asynclib().run_sync_in_worker_thread(func, *args, cancellable=cancellable,\n",
      "  File \"C:\\Users\\955\\Anaconda3\\lib\\site-packages\\anyio\\_backends\\_asyncio.py\", line 818, in run_sync_in_worker_thread\n",
      "    return await future\n",
      "  File \"C:\\Users\\955\\Anaconda3\\lib\\asyncio\\futures.py\", line 284, in __await__\n",
      "    yield self  # This tells Task to wait for completion.\n",
      "  File \"C:\\Users\\955\\Anaconda3\\lib\\asyncio\\tasks.py\", line 328, in __wakeup\n",
      "    future.result()\n",
      "  File \"C:\\Users\\955\\Anaconda3\\lib\\asyncio\\futures.py\", line 201, in result\n",
      "    raise self._exception\n",
      "  File \"C:\\Users\\955\\Anaconda3\\lib\\site-packages\\anyio\\_backends\\_asyncio.py\", line 754, in run\n",
      "    result = context.run(func, *args)\n",
      "  File \"C:\\Users\\955\\AppData\\Local\\Temp\\ipykernel_19344\\47508284.py\", line 41, in read_item\n",
      "    item = Item(actor_id=item_data[0], first_name=item_data[1], last_name=item_data[2], last_update=item_data[3])\n",
      "  File \"C:\\Users\\955\\Anaconda3\\lib\\site-packages\\pydantic\\main.py\", line 164, in __init__\n",
      "    __pydantic_self__.__pydantic_validator__.validate_python(data, self_instance=__pydantic_self__)\n",
      "pydantic_core._pydantic_core.ValidationError: 1 validation error for Item\n",
      "last_update\n",
      "  Input should be a valid string [type=string_type, input_value=datetime.datetime(2006, 2, 15, 4, 34, 33), input_type=datetime]\n",
      "    For further information visit https://errors.pydantic.dev/2.5/v/string_type\n",
      "INFO:     Shutting down\n",
      "INFO:     Waiting for application shutdown.\n",
      "INFO:     Application shutdown complete.\n",
      "INFO:     Finished server process [19344]\n"
     ]
    }
   ],
   "source": [
    "import MySQLdb\n",
    "from fastapi import FastAPI, HTTPException\n",
    "from pydantic import BaseModel\n",
    "import nest_asyncio\n",
    "import uvicorn\n",
    "\n",
    "nest_asyncio.apply()\n",
    "\n",
    "# Database configuration\n",
    "db_config = {\n",
    "    'host': 'localhost',\n",
    "    'user': 'root',\n",
    "    'passwd': 'Rafasql24',\n",
    "    'db': 'sakila',\n",
    "}\n",
    "\n",
    "# Create a connection to the database\n",
    "conn = MySQLdb.connect(**db_config)\n",
    "\n",
    "app = FastAPI()\n",
    "\n",
    "# Pydantic model to define the schema of the data\n",
    "class Item(BaseModel):\n",
    "    actor_id: int\n",
    "    first_name: str\n",
    "    last_name: str\n",
    "    last_update: str\n",
    "\n",
    "# Route to read an item\n",
    "@app.get(\"/items\", response_model=Item)\n",
    "def read_item():\n",
    "    cursor = conn.cursor()\n",
    "    query = \"SELECT actor_id, first_name, last_name, last_update FROM actor\"\n",
    "    cursor.execute(query)\n",
    "    item_data = cursor.fetchone()\n",
    "    cursor.close()\n",
    "    if item_data is None:\n",
    "        raise HTTPException(status_code=404, detail=\"Item not found\")\n",
    "    \n",
    "    # Crear una instancia de Item utilizando los datos recuperados de la base de datos\n",
    "    item = Item(actor_id=item_data[0], first_name=item_data[1], last_name=item_data[2], last_update=item_data[3])\n",
    "    \n",
    "    return item\n",
    "\n",
    "if __name__ == \"__main__\":\n",
    "    uvicorn.run(app, host=\"127.0.0.1\", port=8000)"
   ]
  },
  {
   "cell_type": "code",
   "execution_count": null,
   "id": "c15c48dc",
   "metadata": {},
   "outputs": [],
   "source": []
  },
  {
   "cell_type": "code",
   "execution_count": null,
   "id": "115e29bf",
   "metadata": {},
   "outputs": [],
   "source": []
  },
  {
   "cell_type": "code",
   "execution_count": 66,
   "id": "3740b38e",
   "metadata": {},
   "outputs": [
    {
     "name": "stderr",
     "output_type": "stream",
     "text": [
      "INFO:     Started server process [19344]\n",
      "INFO:     Waiting for application startup.\n",
      "INFO:     Application startup complete.\n",
      "INFO:     Uvicorn running on http://127.0.0.1:8000 (Press CTRL+C to quit)\n"
     ]
    },
    {
     "name": "stdout",
     "output_type": "stream",
     "text": [
      "INFO:     127.0.0.1:61124 - \"GET / HTTP/1.1\" 404 Not Found\n",
      "INFO:     127.0.0.1:61137 - \"GET /items HTTP/1.1\" 200 OK\n",
      "INFO:     127.0.0.1:61138 - \"GET /items HTTP/1.1\" 200 OK\n",
      "INFO:     127.0.0.1:61194 - \"GET / HTTP/1.1\" 404 Not Found\n",
      "INFO:     127.0.0.1:61164 - \"GET / HTTP/1.1\" 404 Not Found\n",
      "INFO:     127.0.0.1:61216 - \"GET /items HTTP/1.1\" 200 OK\n",
      "INFO:     127.0.0.1:61230 - \"GET /items HTTP/1.1\" 200 OK\n"
     ]
    },
    {
     "name": "stderr",
     "output_type": "stream",
     "text": [
      "INFO:     Shutting down\n",
      "INFO:     Waiting for application shutdown.\n",
      "INFO:     Application shutdown complete.\n",
      "INFO:     Finished server process [19344]\n"
     ]
    }
   ],
   "source": [
    "#EL EJEMPLO BUENO PARA UN REGISTRO\n",
    "\n",
    "import MySQLdb\n",
    "from fastapi import FastAPI, HTTPException\n",
    "from pydantic import BaseModel\n",
    "import nest_asyncio\n",
    "import uvicorn\n",
    "from datetime import datetime  # Importa datetime\n",
    "\n",
    "nest_asyncio.apply()\n",
    "\n",
    "# Database configuration\n",
    "db_config = {\n",
    "    'host': 'localhost',\n",
    "    'user': 'root',\n",
    "    'passwd': 'Rafasql24',\n",
    "    'db': 'sakila',\n",
    "}\n",
    "\n",
    "# Create a connection to the database\n",
    "conn = MySQLdb.connect(**db_config)\n",
    "\n",
    "app = FastAPI()\n",
    "\n",
    "# Pydantic model to define the schema of the data\n",
    "class Item(BaseModel):\n",
    "    actor_id: int\n",
    "    first_name: str\n",
    "    last_name: str\n",
    "    last_update: str  # Espera una cadena para last_update\n",
    "\n",
    "# Route to read an item\n",
    "@app.get(\"/items\", response_model=Item)\n",
    "def read_item():\n",
    "    cursor = conn.cursor()\n",
    "    query = \"SELECT actor_id, first_name, last_name, last_update FROM actor\"\n",
    "    cursor.execute(query)\n",
    "    item_data = cursor.fetchone()\n",
    "    cursor.close()\n",
    "    if item_data is None:\n",
    "        raise HTTPException(status_code=404, detail=\"Item not found\")\n",
    "    \n",
    "    # Convertir el objeto datetime en una cadena usando strftime()\n",
    "    last_update_str = item_data[3].strftime(\"%Y-%m-%d %H:%M:%S\")\n",
    "\n",
    "    # Crear una instancia de Item utilizando los datos recuperados de la base de datos\n",
    "    item = Item(actor_id=item_data[0], first_name=item_data[1], last_name=item_data[2], last_update=last_update_str)\n",
    "    \n",
    "    return item\n",
    "\n",
    "if __name__ == \"__main__\":\n",
    "    uvicorn.run(app, host=\"127.0.0.1\", port=8000)"
   ]
  },
  {
   "cell_type": "markdown",
   "id": "75b0a113",
   "metadata": {},
   "source": [
    "Para devolver todos los registros de la base de datos en lugar de solo el primero, necesitas utilizar el método fetchall() después de ejecutar la consulta SQL en lugar de fetchone(). fetchall() devuelve una lista de tuplas, donde cada tupla representa una fila de resultados. Luego puedes iterar sobre esta lista para crear instancias de Item para cada fila y devolver una lista de todos los registros."
   ]
  },
  {
   "cell_type": "code",
   "execution_count": 65,
   "id": "f9202274",
   "metadata": {},
   "outputs": [
    {
     "name": "stderr",
     "output_type": "stream",
     "text": [
      "INFO:     Started server process [19344]\n",
      "INFO:     Waiting for application startup.\n",
      "INFO:     Application startup complete.\n",
      "INFO:     Uvicorn running on http://127.0.0.1:8000 (Press CTRL+C to quit)\n"
     ]
    },
    {
     "name": "stdout",
     "output_type": "stream",
     "text": [
      "INFO:     127.0.0.1:61063 - \"GET /items HTTP/1.1\" 200 OK\n"
     ]
    },
    {
     "name": "stderr",
     "output_type": "stream",
     "text": [
      "INFO:     Shutting down\n",
      "INFO:     Waiting for application shutdown.\n",
      "INFO:     Application shutdown complete.\n",
      "INFO:     Finished server process [19344]\n"
     ]
    }
   ],
   "source": [
    "#PARA TODOS LOS REGISTROS\n",
    "\n",
    "import MySQLdb\n",
    "from fastapi import FastAPI, HTTPException\n",
    "from pydantic import BaseModel\n",
    "import nest_asyncio\n",
    "import uvicorn\n",
    "from datetime import datetime  # Importa datetime\n",
    "\n",
    "nest_asyncio.apply()\n",
    "\n",
    "# Database configuration\n",
    "db_config = {\n",
    "    'host': 'localhost',\n",
    "    'user': 'root',\n",
    "    'passwd': 'Rafasql24',\n",
    "    'db': 'sakila',\n",
    "}\n",
    "\n",
    "# Create a connection to the database\n",
    "conn = MySQLdb.connect(**db_config)\n",
    "\n",
    "app = FastAPI()\n",
    "\n",
    "# Pydantic model to define the schema of the data\n",
    "class Item(BaseModel):\n",
    "    actor_id: int\n",
    "    first_name: str\n",
    "    last_name: str\n",
    "    last_update: str  # Espera una cadena para last_update\n",
    "\n",
    "# Route to read all items\n",
    "@app.get(\"/items\", response_model=list[Item])\n",
    "def read_items():\n",
    "    cursor = conn.cursor()\n",
    "    query = \"SELECT actor_id, first_name, last_name, last_update FROM actor\"\n",
    "    cursor.execute(query)\n",
    "    items_data = cursor.fetchall()\n",
    "    cursor.close()\n",
    "\n",
    "    if not items_data:\n",
    "        raise HTTPException(status_code=404, detail=\"No items found\")\n",
    "\n",
    "    # Convertir cada fila en una instancia de Item y agregarla a una lista\n",
    "    items = []\n",
    "    for item_data in items_data:\n",
    "        last_update_str = item_data[3].strftime(\"%Y-%m-%d %H:%M:%S\")\n",
    "        item = Item(actor_id=item_data[0], first_name=item_data[1], last_name=item_data[2], last_update=last_update_str)\n",
    "        items.append(item)\n",
    "\n",
    "    return items\n",
    "\n",
    "if __name__ == \"__main__\":\n",
    "    uvicorn.run(app, host=\"127.0.0.1\", port=8000)"
   ]
  },
  {
   "cell_type": "code",
   "execution_count": null,
   "id": "e31bba43",
   "metadata": {},
   "outputs": [],
   "source": []
  }
 ],
 "metadata": {
  "kernelspec": {
   "display_name": "Python 3 (ipykernel)",
   "language": "python",
   "name": "python3"
  },
  "language_info": {
   "codemirror_mode": {
    "name": "ipython",
    "version": 3
   },
   "file_extension": ".py",
   "mimetype": "text/x-python",
   "name": "python",
   "nbconvert_exporter": "python",
   "pygments_lexer": "ipython3",
   "version": "3.9.13"
  }
 },
 "nbformat": 4,
 "nbformat_minor": 5
}
