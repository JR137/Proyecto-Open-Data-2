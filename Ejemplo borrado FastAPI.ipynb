{
 "cells": [
  {
   "cell_type": "markdown",
   "id": "d06677e4",
   "metadata": {},
   "source": [
    "Para borrar un registro de la base de datos utilizando FastAPI y MySQL, necesitarás una ruta en tu aplicación FastAPI que maneje las solicitudes de eliminación y luego ejecutar una consulta SQL para realizar la eliminación en la base de datos."
   ]
  },
  {
   "cell_type": "code",
   "execution_count": null,
   "id": "3030550b",
   "metadata": {},
   "outputs": [],
   "source": [
    "import MySQLdb\n",
    "from fastapi import FastAPI, HTTPException\n",
    "import nest_asyncio\n",
    "import uvicorn\n",
    "\n",
    "nest_asyncio.apply()\n",
    "\n",
    "# Database configuration\n",
    "db_config = {\n",
    "    'host': 'localhost',\n",
    "    'user': 'root',\n",
    "    'passwd': 'Rafasql24',\n",
    "    'db': 'sakila',\n",
    "}\n",
    "\n",
    "# Create a connection to the database\n",
    "conn = MySQLdb.connect(**db_config)\n",
    "\n",
    "app = FastAPI()\n",
    "\n",
    "# Route to delete an item\n",
    "@app.delete(\"/items/{actor_id}\")\n",
    "def delete_item(actor_id: int):\n",
    "    cursor = conn.cursor()\n",
    "    query = \"DELETE FROM actor WHERE actor_id = %s\"\n",
    "    cursor.execute(query, (actor_id,))\n",
    "    conn.commit()  # Guardar los cambios en la base de datos\n",
    "    affected_rows = cursor.rowcount\n",
    "    cursor.close()\n",
    "\n",
    "    if affected_rows == 0:\n",
    "        raise HTTPException(status_code=404, detail=\"Item not found\")\n",
    "\n",
    "    return {\"message\": f\"Item with actor_id {actor_id} deleted successfully\"}\n",
    "\n",
    "if __name__ == \"__main__\":\n",
    "    uvicorn.run(app, host=\"127.0.0.1\", port=8000)"
   ]
  },
  {
   "cell_type": "markdown",
   "id": "7a7502a8",
   "metadata": {},
   "source": [
    "En este código, hemos definido una nueva ruta DELETE en la ruta /items/{actor_id} que espera un parámetro de ruta actor_id para identificar el elemento que se eliminará.\n",
    "\n",
    "Dentro de la función delete_item, ejecutamos una consulta SQL DELETE para eliminar el registro de la tabla actor que coincide con el actor_id proporcionado. Después de ejecutar la consulta, confirmamos los cambios utilizando conn.commit(). Luego verificamos cuántas filas se vieron afectadas por la eliminación usando cursor.rowcount. Si ninguna fila se vio afectada (lo que significa que el actor_id proporcionado no existe en la base de datos), levantamos una excepción HTTP 404. Si la eliminación se realizó con éxito, devolvemos un mensaje indicando que la eliminación se realizó correctamente."
   ]
  },
  {
   "cell_type": "code",
   "execution_count": null,
   "id": "56bed090",
   "metadata": {},
   "outputs": [],
   "source": []
  }
 ],
 "metadata": {
  "kernelspec": {
   "display_name": "Python 3 (ipykernel)",
   "language": "python",
   "name": "python3"
  },
  "language_info": {
   "codemirror_mode": {
    "name": "ipython",
    "version": 3
   },
   "file_extension": ".py",
   "mimetype": "text/x-python",
   "name": "python",
   "nbconvert_exporter": "python",
   "pygments_lexer": "ipython3",
   "version": "3.9.13"
  }
 },
 "nbformat": 4,
 "nbformat_minor": 5
}
