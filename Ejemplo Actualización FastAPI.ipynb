{
 "cells": [
  {
   "cell_type": "markdown",
   "id": "0696bcac",
   "metadata": {},
   "source": [
    "Para actualizar un dato en una tabla de la base de datos utilizando FastAPI y MySQL, necesitarás una ruta en tu aplicación FastAPI que maneje las solicitudes de actualización y luego ejecutar una consulta SQL para realizar la actualización en la base de datos."
   ]
  },
  {
   "cell_type": "code",
   "execution_count": null,
   "id": "a3d1aa86",
   "metadata": {},
   "outputs": [],
   "source": [
    "import MySQLdb\n",
    "from fastapi import FastAPI, HTTPException\n",
    "from pydantic import BaseModel\n",
    "import nest_asyncio\n",
    "import uvicorn\n",
    "from datetime import datetime  # Importa datetime\n",
    "\n",
    "nest_asyncio.apply()\n",
    "\n",
    "# Database configuration\n",
    "db_config = {\n",
    "    'host': 'localhost',\n",
    "    'user': 'root',\n",
    "    'passwd': 'Rafasql24',\n",
    "    'db': 'sakila',\n",
    "}\n",
    "\n",
    "# Create a connection to the database\n",
    "conn = MySQLdb.connect(**db_config)\n",
    "\n",
    "app = FastAPI()\n",
    "\n",
    "# Pydantic model to define the schema of the data\n",
    "class ItemUpdate(BaseModel):\n",
    "    first_name: str\n",
    "    last_name: str\n",
    "\n",
    "# Route to update an item\n",
    "@app.put(\"/items/{actor_id}\")\n",
    "def update_item(actor_id: int, item_update: ItemUpdate):\n",
    "    cursor = conn.cursor()\n",
    "    query = \"UPDATE actor SET first_name = %s, last_name = %s WHERE actor_id = %s\"\n",
    "    data = (item_update.first_name, item_update.last_name, actor_id)\n",
    "    cursor.execute(query, data)\n",
    "    conn.commit()  # Guardar los cambios en la base de datos\n",
    "    affected_rows = cursor.rowcount\n",
    "    cursor.close()\n",
    "\n",
    "    if affected_rows == 0:\n",
    "        raise HTTPException(status_code=404, detail=\"Item not found\")\n",
    "\n",
    "    return {\"message\": f\"Item with actor_id {actor_id} updated successfully\"}\n",
    "\n",
    "if __name__ == \"__main__\":\n",
    "    uvicorn.run(app, host=\"127.0.0.1\", port=8000)"
   ]
  },
  {
   "cell_type": "markdown",
   "id": "3d482251",
   "metadata": {},
   "source": [
    "En este código, hemos definido una nueva ruta PUT en la ruta /items/{actor_id} que espera un parámetro de ruta actor_id para identificar el elemento que se actualizará y los datos actualizados en forma de ItemUpdate que contiene los nuevos valores first_name y last_name.\n",
    "\n",
    "Dentro de la función update_item, ejecutamos una consulta SQL UPDATE para actualizar los valores en la tabla actor en función del actor_id proporcionado. Después de ejecutar la consulta, confirmamos los cambios utilizando conn.commit(). Luego verificamos cuántas filas se vieron afectadas por la actualización usando cursor.rowcount. Si ninguna fila se vio afectada (lo que significa que el actor_id proporcionado no existe en la base de datos), levantamos una excepción HTTP 404. Si la actualización se realizó con éxito, devolvemos un mensaje indicando que la actualización se realizó correctamente."
   ]
  },
  {
   "cell_type": "code",
   "execution_count": null,
   "id": "ef89cf3b",
   "metadata": {},
   "outputs": [],
   "source": []
  }
 ],
 "metadata": {
  "kernelspec": {
   "display_name": "Python 3 (ipykernel)",
   "language": "python",
   "name": "python3"
  },
  "language_info": {
   "codemirror_mode": {
    "name": "ipython",
    "version": 3
   },
   "file_extension": ".py",
   "mimetype": "text/x-python",
   "name": "python",
   "nbconvert_exporter": "python",
   "pygments_lexer": "ipython3",
   "version": "3.9.13"
  }
 },
 "nbformat": 4,
 "nbformat_minor": 5
}
