{
 "cells": [
  {
   "cell_type": "markdown",
   "id": "52bd5214",
   "metadata": {},
   "source": [
    "Para realizar una inserción en la base de datos utilizando FastAPI y MySQL, necesitarás una ruta en tu aplicación FastAPI que maneje las solicitudes de inserción y luego ejecutar una consulta SQL para realizar la inserción en la base de datos."
   ]
  },
  {
   "cell_type": "code",
   "execution_count": null,
   "id": "7c023e71",
   "metadata": {},
   "outputs": [],
   "source": [
    "import MySQLdb\n",
    "from fastapi import FastAPI, HTTPException\n",
    "from pydantic import BaseModel\n",
    "import nest_asyncio\n",
    "import uvicorn\n",
    "\n",
    "nest_asyncio.apply()\n",
    "\n",
    "# Database configuration\n",
    "db_config = {\n",
    "    'host': 'localhost',\n",
    "    'user': 'root',\n",
    "    'passwd': 'Rafasql24',\n",
    "    'db': 'sakila',\n",
    "}\n",
    "\n",
    "# Create a connection to the database\n",
    "conn = MySQLdb.connect(**db_config)\n",
    "\n",
    "app = FastAPI()\n",
    "\n",
    "# Pydantic model to define the schema of the data for insertion\n",
    "class ItemInsert(BaseModel):\n",
    "    first_name: str\n",
    "    last_name: str\n",
    "\n",
    "# Route to insert an item\n",
    "@app.post(\"/items\")\n",
    "def insert_item(item_insert: ItemInsert):\n",
    "    cursor = conn.cursor()\n",
    "    query = \"INSERT INTO actor (first_name, last_name) VALUES (%s, %s)\"\n",
    "    data = (item_insert.first_name, item_insert.last_name)\n",
    "    cursor.execute(query, data)\n",
    "    conn.commit()  # Guardar los cambios en la base de datos\n",
    "    new_actor_id = cursor.lastrowid  # Obtener el ID del actor recién insertado\n",
    "    cursor.close()\n",
    "\n",
    "    return {\"message\": \"Item inserted successfully\", \"actor_id\": new_actor_id}\n",
    "\n",
    "if __name__ == \"__main__\":\n",
    "    uvicorn.run(app, host=\"127.0.0.1\", port=8000)"
   ]
  },
  {
   "cell_type": "markdown",
   "id": "9f987794",
   "metadata": {},
   "source": [
    "En este código, hemos definido una nueva ruta POST en la ruta /items que espera datos de inserción en forma de ItemInsert, que contiene los valores first_name y last_name para el nuevo registro.\n",
    "\n",
    "Dentro de la función insert_item, ejecutamos una consulta SQL INSERT para insertar un nuevo registro en la tabla actor con los valores proporcionados. Después de ejecutar la consulta, confirmamos los cambios utilizando conn.commit(). Luego obtenemos el ID del actor recién insertado utilizando cursor.lastrowid. Finalmente, devolvemos un mensaje indicando que la inserción se realizó correctamente junto con el nuevo ID del actor."
   ]
  },
  {
   "cell_type": "code",
   "execution_count": null,
   "id": "4ca91690",
   "metadata": {},
   "outputs": [],
   "source": []
  }
 ],
 "metadata": {
  "kernelspec": {
   "display_name": "Python 3 (ipykernel)",
   "language": "python",
   "name": "python3"
  },
  "language_info": {
   "codemirror_mode": {
    "name": "ipython",
    "version": 3
   },
   "file_extension": ".py",
   "mimetype": "text/x-python",
   "name": "python",
   "nbconvert_exporter": "python",
   "pygments_lexer": "ipython3",
   "version": "3.9.13"
  }
 },
 "nbformat": 4,
 "nbformat_minor": 5
}
