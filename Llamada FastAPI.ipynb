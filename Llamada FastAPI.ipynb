{
 "cells": [
  {
   "cell_type": "code",
   "execution_count": 58,
   "id": "c64726d2",
   "metadata": {},
   "outputs": [
    {
     "name": "stdout",
     "output_type": "stream",
     "text": [
      "{\"actor_id\":1,\"first_name\":\"PENELOPE\",\"last_name\":\"GUINESS\",\"last_update\":\"2006-02-15 04:34:33\"}\n"
     ]
    }
   ],
   "source": [
    "import requests\n",
    "\n",
    "#parametros = {'actor_id': 58} \n",
    "response = requests.get('http://127.0.0.1:8000/items')\n",
    "#response = requests.get('http://127.0.0.1:8000/items', params=parametros)\n",
    "#resp = requests.get('http://127.0.0.1:8000/items/item_id=58')\n",
    "if response.status_code == 200:\n",
    "    # Si la respuesta es exitosa, imprimir el contenido de la respuesta\n",
    "    print(response.text)\n",
    "else:\n",
    "    # Si la respuesta no es exitosa, imprimir el código de estado\n",
    "    print(\"Error:\", response.status_code)"
   ]
  },
  {
   "cell_type": "code",
   "execution_count": 59,
   "id": "0e4905e8",
   "metadata": {},
   "outputs": [
    {
     "data": {
      "text/plain": [
       "<Response [200]>"
      ]
     },
     "execution_count": 59,
     "metadata": {},
     "output_type": "execute_result"
    }
   ],
   "source": [
    "response"
   ]
  },
  {
   "cell_type": "code",
   "execution_count": 61,
   "id": "a6da2bfa",
   "metadata": {},
   "outputs": [
    {
     "data": {
      "text/plain": [
       "'{\"actor_id\":1,\"first_name\":\"PENELOPE\",\"last_name\":\"GUINESS\",\"last_update\":\"2006-02-15 04:34:33\"}'"
      ]
     },
     "execution_count": 61,
     "metadata": {},
     "output_type": "execute_result"
    }
   ],
   "source": [
    "response.text"
   ]
  },
  {
   "cell_type": "code",
   "execution_count": 57,
   "id": "801f436e",
   "metadata": {},
   "outputs": [
    {
     "name": "stdout",
     "output_type": "stream",
     "text": [
      "La dirección http://127.0.0.1:8000/items está activa.\n"
     ]
    }
   ],
   "source": [
    "import requests\n",
    "\n",
    "def check_website_availability(url):\n",
    "    try:\n",
    "        response = requests.get(url)\n",
    "        # Verificar el estado de la respuesta\n",
    "        if response.status_code == 200:\n",
    "            print(f\"La dirección {url} está activa.\")\n",
    "        else:\n",
    "            print(f\"La dirección {url} está inactiva. Código de estado: {response.status_code}\")\n",
    "    except requests.exceptions.RequestException as e:\n",
    "        print(f\"No se pudo conectar a la dirección {url}. Error: {e}\")\n",
    "\n",
    "# URL que deseas comprobar\n",
    "url = \"http://127.0.0.1:8000/items\"\n",
    "\n",
    "# Llamar a la función para comprobar la disponibilidad del sitio web\n",
    "check_website_availability(url)"
   ]
  },
  {
   "cell_type": "code",
   "execution_count": null,
   "id": "008c6105",
   "metadata": {},
   "outputs": [],
   "source": []
  },
  {
   "cell_type": "code",
   "execution_count": null,
   "id": "8569d5cb",
   "metadata": {},
   "outputs": [],
   "source": []
  }
 ],
 "metadata": {
  "kernelspec": {
   "display_name": "Python 3 (ipykernel)",
   "language": "python",
   "name": "python3"
  },
  "language_info": {
   "codemirror_mode": {
    "name": "ipython",
    "version": 3
   },
   "file_extension": ".py",
   "mimetype": "text/x-python",
   "name": "python",
   "nbconvert_exporter": "python",
   "pygments_lexer": "ipython3",
   "version": "3.9.12"
  }
 },
 "nbformat": 4,
 "nbformat_minor": 5
}
